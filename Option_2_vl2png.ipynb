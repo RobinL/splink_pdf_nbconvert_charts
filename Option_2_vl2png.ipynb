{
 "cells": [
  {
   "cell_type": "markdown",
   "id": "cf3555a8-4692-4419-8bda-5c93078e75ce",
   "metadata": {},
   "source": [
    "## Option 2: Use vl2png to render a .png from the command line\n",
    "\n",
    "See the CLI docs here: https://vega.github.io/vega/usage/#cli"
   ]
  },
  {
   "cell_type": "code",
   "execution_count": null,
   "id": "44488efe-97ba-4fd4-9669-09e0cf3493e3",
   "metadata": {},
   "outputs": [],
   "source": [
    "from splink.duckdb.duckdb_linker import DuckDBLinker\n",
    "from splink.duckdb.duckdb_comparison_library import exact_match\n",
    "import pandas as pd \n",
    "import json\n",
    "\n",
    "data = [\n",
    "    {\"unique_id\": 1, \"forename\": \"John\", \"surname\": \"Smith\", \"full_name\": \"John Smith\"},\n",
    "    {\"unique_id\": 2, \"forename\": \"Smith\", \"surname\": \"John\", \"full_name\": \"Smith John\"},\n",
    "    {\"unique_id\": 3, \"forename\": \"Rob\", \"surname\": \"Jones\", \"full_name\": \"Rob Jones\"},\n",
    "    {\"unique_id\": 4, \"forename\": \"Rob\", \"surname\": \"Jones\", \"full_name\": \"Rob Jones\"},\n",
    "]\n",
    "df = pd.DataFrame(data)\n",
    "\n",
    " settings = {\n",
    "        \"link_type\": \"dedupe_only\",\n",
    "        \"blocking_rules_to_generate_predictions\": [],\n",
    "        \"comparisons\": [\n",
    "            exact_match(\"forname\"),\n",
    "            exact_match(\"surname\"),\n",
    "        ],\n",
    "        \"retain_matching_columns\": True,\n",
    "        \"retain_intermediate_calculation_columns\": True,\n",
    "    }\n",
    "\n",
    "\n",
    "linker = DuckDBLinker(df, settings)\n",
    "\n",
    "spec = linker.match_weights_chart().spec\n",
    "\n",
    "\n",
    "with open(\"spec.json\", \"w\") as f:\n",
    "    json.dump(spec, f)"
   ]
  },
  {
   "cell_type": "markdown",
   "id": "280454b5-5c55-413b-900f-56b9657d3d19",
   "metadata": {},
   "source": [
    "You now have a full specification of that chart as `spec.json` which you can use to render to a png using command line tools:\n",
    "\n",
    "1. Install node-canvas using instructions at  https://github.com/Automattic/node-canvas/\n",
    "2. Install required npm packages: `npm install -g vega-lite vega-cli canvas`  (I had to run `npm uninstall -g vega-lite vega-cli canvas` first)\n",
    "3. Run the following command: `vl2png spec.json --scale 2 vl2png_chart.png ` [Docs here](https://vega.github.io/vega/usage/#cli)\n",
    "\n",
    "Note I have used the scale command to increase the resolution\n",
    "\n",
    "The output is:"
   ]
  },
  {
   "cell_type": "code",
   "execution_count": 2,
   "id": "d8394a70-f973-4af0-9a8d-d2bd5ab417e9",
   "metadata": {},
   "outputs": [
    {
     "data": {
      "text/html": [
       "<img src=\"vl2png_chart.png\"/>"
      ],
      "text/plain": [
       "<IPython.core.display.Image object>"
      ]
     },
     "execution_count": 2,
     "metadata": {},
     "output_type": "execute_result"
    }
   ],
   "source": [
    "from IPython.display import Image\n",
    "from IPython.core.display import HTML \n",
    "Image(url= \"vl2png_chart.png\")"
   ]
  },
  {
   "cell_type": "code",
   "execution_count": null,
   "id": "6a180d04-e307-43ed-b7f9-eb21cf311df6",
   "metadata": {},
   "outputs": [],
   "source": []
  }
 ],
 "metadata": {
  "kernelspec": {
   "display_name": "nbconvert",
   "language": "python",
   "name": "nbconvert"
  },
  "language_info": {
   "codemirror_mode": {
    "name": "ipython",
    "version": 3
   },
   "file_extension": ".py",
   "mimetype": "text/x-python",
   "name": "python",
   "nbconvert_exporter": "python",
   "pygments_lexer": "ipython3",
   "version": "3.8.3"
  }
 },
 "nbformat": 4,
 "nbformat_minor": 5
}
