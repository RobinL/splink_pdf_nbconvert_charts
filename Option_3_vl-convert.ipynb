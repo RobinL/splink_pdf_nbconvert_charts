{
 "cells": [
  {
   "cell_type": "markdown",
   "id": "cf3555a8-4692-4419-8bda-5c93078e75ce",
   "metadata": {},
   "source": [
    "## Option 2: Use vl2png to render a .png from the command line\n",
    "\n",
    "See the CLI docs here: https://vega.github.io/vega/usage/#cli"
   ]
  },
  {
   "cell_type": "code",
   "execution_count": 3,
   "id": "44488efe-97ba-4fd4-9669-09e0cf3493e3",
   "metadata": {},
   "outputs": [],
   "source": [
    "from splink.duckdb.duckdb_linker import DuckDBLinker\n",
    "from splink.duckdb.duckdb_comparison_library import exact_match\n",
    "import pandas as pd \n",
    "import json\n",
    "\n",
    "data = [\n",
    "    {\"unique_id\": 1, \"forename\": \"John\", \"surname\": \"Smith\", \"full_name\": \"John Smith\"},\n",
    "    {\"unique_id\": 2, \"forename\": \"Smith\", \"surname\": \"John\", \"full_name\": \"Smith John\"},\n",
    "    {\"unique_id\": 3, \"forename\": \"Rob\", \"surname\": \"Jones\", \"full_name\": \"Rob Jones\"},\n",
    "    {\"unique_id\": 4, \"forename\": \"Rob\", \"surname\": \"Jones\", \"full_name\": \"Rob Jones\"},\n",
    "]\n",
    "df = pd.DataFrame(data)\n",
    "\n",
    "settings = {\n",
    "        \"link_type\": \"dedupe_only\",\n",
    "        \"blocking_rules_to_generate_predictions\": [],\n",
    "        \"comparisons\": [\n",
    "            exact_match(\"forname\"),\n",
    "            exact_match(\"surname\"),\n",
    "        ],\n",
    "        \"retain_matching_columns\": True,\n",
    "        \"retain_intermediate_calculation_columns\": True,\n",
    "    }\n",
    "\n",
    "\n",
    "linker = DuckDBLinker(df, settings)\n",
    "\n",
    "spec = linker.match_weights_chart().spec\n"
   ]
  },
  {
   "cell_type": "code",
   "execution_count": 4,
   "id": "6a180d04-e307-43ed-b7f9-eb21cf311df6",
   "metadata": {},
   "outputs": [],
   "source": [
    "import vl_convert as vlc\n",
    "png_data = vlc.vegalite_to_png(vl_spec=spec, scale=2)\n",
    "with open(\"vl_convert_chart.png\", \"wb\") as f:\n",
    "    f.write(png_data)"
   ]
  },
  {
   "cell_type": "code",
   "execution_count": 5,
   "id": "4350fbe8-dfb5-4bfa-b85e-a0c5bf2a72b7",
   "metadata": {},
   "outputs": [
    {
     "data": {
      "text/html": [
       "<img src=\"vl_convert_chart.png\"/>"
      ],
      "text/plain": [
       "<IPython.core.display.Image object>"
      ]
     },
     "execution_count": 5,
     "metadata": {},
     "output_type": "execute_result"
    }
   ],
   "source": [
    "from IPython.display import Image\n",
    "from IPython.core.display import HTML \n",
    "Image(url= \"vl_convert_chart.png\")"
   ]
  },
  {
   "cell_type": "code",
   "execution_count": null,
   "id": "bdec5530-4b01-471f-a526-4242506bbb06",
   "metadata": {},
   "outputs": [],
   "source": []
  }
 ],
 "metadata": {
  "kernelspec": {
   "display_name": "nbconvert",
   "language": "python",
   "name": "nbconvert"
  },
  "language_info": {
   "codemirror_mode": {
    "name": "ipython",
    "version": 3
   },
   "file_extension": ".py",
   "mimetype": "text/x-python",
   "name": "python",
   "nbconvert_exporter": "python",
   "pygments_lexer": "ipython3",
   "version": "3.10.8"
  }
 },
 "nbformat": 4,
 "nbformat_minor": 5
}
